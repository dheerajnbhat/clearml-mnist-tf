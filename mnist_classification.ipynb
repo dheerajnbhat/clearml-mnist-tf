{
 "cells": [
  {
   "cell_type": "code",
   "execution_count": null,
   "id": "3a1a36e1",
   "metadata": {
    "scrolled": false
   },
   "outputs": [],
   "source": [
    "# add clearml credentials here \n",
    "%env CLEARML_WEB_HOST=https://app.clear.ml\n",
    "%env CLEARML_API_HOST=https://api.clear.ml\n",
    "%env CLEARML_FILES_HOST=https://files.clear.ml\n",
    "# Jupyter\n",
    "%env CLEARML_API_ACCESS_KEY='YOUR_CLEARML_API_ACCESS_KEY'\n",
    "%env CLEARML_API_SECRET_KEY='YOUR_CLEARML_API_SECRET_KEY'"
   ]
  },
  {
   "cell_type": "code",
   "execution_count": 2,
   "id": "41f0242b",
   "metadata": {},
   "outputs": [
    {
     "name": "stderr",
     "output_type": "stream",
     "text": [
      "2023-03-15 12:58:29.116981: I tensorflow/core/platform/cpu_feature_guard.cc:193] This TensorFlow binary is optimized with oneAPI Deep Neural Network Library (oneDNN) to use the following CPU instructions in performance-critical operations:  AVX2 FMA\n",
      "To enable them in other operations, rebuild TensorFlow with the appropriate compiler flags.\n",
      "2023-03-15 12:58:29.277703: W tensorflow/compiler/xla/stream_executor/platform/default/dso_loader.cc:64] Could not load dynamic library 'libcudart.so.11.0'; dlerror: libcudart.so.11.0: cannot open shared object file: No such file or directory\n",
      "2023-03-15 12:58:29.277730: I tensorflow/compiler/xla/stream_executor/cuda/cudart_stub.cc:29] Ignore above cudart dlerror if you do not have a GPU set up on your machine.\n",
      "2023-03-15 12:58:30.222059: W tensorflow/compiler/xla/stream_executor/platform/default/dso_loader.cc:64] Could not load dynamic library 'libnvinfer.so.7'; dlerror: libnvinfer.so.7: cannot open shared object file: No such file or directory\n",
      "2023-03-15 12:58:30.222153: W tensorflow/compiler/xla/stream_executor/platform/default/dso_loader.cc:64] Could not load dynamic library 'libnvinfer_plugin.so.7'; dlerror: libnvinfer_plugin.so.7: cannot open shared object file: No such file or directory\n",
      "2023-03-15 12:58:30.222166: W tensorflow/compiler/tf2tensorrt/utils/py_utils.cc:38] TF-TRT Warning: Cannot dlopen some TensorRT libraries. If you would like to use Nvidia GPU with TensorRT, please make sure the missing libraries mentioned above are installed properly.\n"
     ]
    }
   ],
   "source": [
    "# import necessary packages\n",
    "import os\n",
    "import gzip\n",
    "import tempfile\n",
    "import numpy as np\n",
    "import matplotlib.pyplot as plt\n",
    "\n",
    "from clearml import Task\n",
    "from tensorflow.keras import utils as np_utils\n",
    "from tensorflow.keras.callbacks import ModelCheckpoint, TensorBoard\n",
    "from tensorflow.keras.datasets import mnist\n",
    "from tensorflow.keras.layers import Activation, Dense\n",
    "from tensorflow.keras.models import Sequential"
   ]
  },
  {
   "cell_type": "code",
   "execution_count": 3,
   "id": "572001f5",
   "metadata": {
    "scrolled": true
   },
   "outputs": [
    {
     "name": "stdout",
     "output_type": "stream",
     "text": [
      "ClearML Task: created new task id=6774fb3d0b37401592382430012ba206\n",
      "2023-03-15 12:58:42,632 - clearml.Task - INFO - Storing jupyter notebook directly as code\n",
      "WARNING:tensorflow:Please fix your imports. Module tensorflow.python.training.tracking.util has been moved to tensorflow.python.checkpoint.checkpoint. The old module will be deleted in version 2.11.\n",
      "ClearML results page: https://app.clear.ml/projects/8327edd11ea648abada11c985fccd9ab/experiments/6774fb3d0b37401592382430012ba206/output/log\n",
      "ClearML Monitor: GPU monitoring failed getting GPU reading, switching off GPU monitoring\n"
     ]
    }
   ],
   "source": [
    "# connect our jupyter notebook to clearml\n",
    "task = Task.init(\n",
    "    project_name='mnist_classification', \n",
    "    task_name='dev_experiment'\n",
    ")"
   ]
  },
  {
   "cell_type": "code",
   "execution_count": 4,
   "id": "c5cd9ed8",
   "metadata": {},
   "outputs": [],
   "source": [
    "# Set script parameters\n",
    "task_params = {\n",
    "    'batch_size': 64,\n",
    "    'nb_classes': 10,\n",
    "    'nb_epoch': 6,\n",
    "    'hidden_dim': 512,\n",
    "}\n",
    "task_params = task.connect(task_params)"
   ]
  },
  {
   "cell_type": "code",
   "execution_count": 5,
   "id": "c889f6db",
   "metadata": {},
   "outputs": [],
   "source": [
    "# You can notice that, updating the task_params is traced and updated in ClearML UI\n",
    "task_params['batch_size'] = 128\n",
    "task_params['model_loss'] = 'categorical_crossentropy'\n",
    "task_params['model_optimizer'] = 'rmsprop'"
   ]
  },
  {
   "cell_type": "code",
   "execution_count": 6,
   "id": "21ebe49f",
   "metadata": {},
   "outputs": [],
   "source": [
    "# data initialization\n",
    "raw_data_dir = os.getcwd() + '/'\n",
    "data_sources = {\n",
    "    \"training_images\": \"data/train-images-idx3-ubyte.gz\",  # 60,000 training images.\n",
    "    \"test_images\": \"data/t10k-images-idx3-ubyte.gz\",  # 10,000 test images.\n",
    "    \"training_labels\": \"data/train-labels-idx1-ubyte.gz\",  # 60,000 training labels.\n",
    "    \"test_labels\": \"data/t10k-labels-idx1-ubyte.gz\",  # 10,000 test labels.\n",
    "}"
   ]
  },
  {
   "cell_type": "code",
   "execution_count": 7,
   "id": "953028e0",
   "metadata": {},
   "outputs": [],
   "source": [
    "mnist_dataset = {}\n",
    "\n",
    "# Images\n",
    "for key in (\"training_images\", \"test_images\"):\n",
    "    with gzip.open(os.path.join(raw_data_dir, data_sources[key]), \"rb\") as mnist_file:\n",
    "        mnist_dataset[key] = np.frombuffer(\n",
    "            mnist_file.read(), np.uint8, offset=16\n",
    "        ).reshape(-1, 28 * 28)\n",
    "# Labels\n",
    "for key in (\"training_labels\", \"test_labels\"):\n",
    "    with gzip.open(os.path.join(raw_data_dir, data_sources[key]), \"rb\") as mnist_file:\n",
    "        mnist_dataset[key] = np.frombuffer(mnist_file.read(), np.uint8, offset=8)"
   ]
  },
  {
   "cell_type": "code",
   "execution_count": 8,
   "id": "26fe865f",
   "metadata": {},
   "outputs": [],
   "source": [
    "x_train, y_train, x_test, y_test = (\n",
    "    mnist_dataset[\"training_images\"],\n",
    "    mnist_dataset[\"training_labels\"],\n",
    "    mnist_dataset[\"test_images\"],\n",
    "    mnist_dataset[\"test_labels\"],\n",
    ")"
   ]
  },
  {
   "cell_type": "code",
   "execution_count": 9,
   "id": "2b1214ad",
   "metadata": {},
   "outputs": [
    {
     "data": {
      "image/png": "[encoded data removed]",
      "text/plain": [
       "<Figure size 640x480 with 1 Axes>"
      ]
     },
     "metadata": {},
     "output_type": "display_data"
    }
   ],
   "source": [
    "# Take the 60,000th image (indexed at 59,999) from the training set,\n",
    "# reshape from (784, ) to (28, 28) to have a valid shape for displaying purposes.\n",
    "mnist_image = x_train[59999, :].reshape(28, 28)\n",
    "plt.imshow(mnist_image)\n",
    "# Display the image.\n",
    "plt.show()"
   ]
  },
  {
   "cell_type": "code",
   "execution_count": 10,
   "id": "d487fa04",
   "metadata": {},
   "outputs": [
    {
     "name": "stdout",
     "output_type": "stream",
     "text": [
      "60000 train samples\n",
      "10000 test samples\n"
     ]
    }
   ],
   "source": [
    "x_train = x_train.reshape(60000, 784)\n",
    "x_test = x_test.reshape(10000, 784)\n",
    "x_train = x_train.astype('float32')\n",
    "x_test = x_test.astype('float32')\n",
    "x_train /= 255.\n",
    "x_test /= 255.\n",
    "print(x_train.shape[0], 'train samples')\n",
    "print(x_test.shape[0], 'test samples')"
   ]
  },
  {
   "cell_type": "code",
   "execution_count": 11,
   "id": "738b7e4a",
   "metadata": {},
   "outputs": [],
   "source": [
    "# convert class vectors to one hot encoded vectors\n",
    "y_train = np_utils.to_categorical(y_train, task_params['nb_classes'])\n",
    "y_test = np_utils.to_categorical(y_test, task_params['nb_classes'])"
   ]
  },
  {
   "cell_type": "code",
   "execution_count": 12,
   "id": "7c8f6753",
   "metadata": {},
   "outputs": [
    {
     "name": "stderr",
     "output_type": "stream",
     "text": [
      "2023-03-15 12:59:15.984778: E tensorflow/compiler/xla/stream_executor/cuda/cuda_driver.cc:267] failed call to cuInit: CUDA_ERROR_NO_DEVICE: no CUDA-capable device is detected\n",
      "2023-03-15 12:59:15.984813: I tensorflow/compiler/xla/stream_executor/cuda/cuda_diagnostics.cc:156] kernel driver does not appear to be running on this host (clairvoyantt): /proc/driver/nvidia/version does not exist\n",
      "2023-03-15 12:59:15.985287: I tensorflow/core/platform/cpu_feature_guard.cc:193] This TensorFlow binary is optimized with oneAPI Deep Neural Network Library (oneDNN) to use the following CPU instructions in performance-critical operations:  AVX2 FMA\n",
      "To enable them in other operations, rebuild TensorFlow with the appropriate compiler flags.\n"
     ]
    },
    {
     "name": "stdout",
     "output_type": "stream",
     "text": [
      "Model: \"sequential\"\n",
      "_________________________________________________________________\n",
      " Layer (type)                Output Shape              Param #   \n",
      "=================================================================\n",
      " dense (Dense)               (None, 512)               401920    \n",
      "                                                                 \n",
      " activation (Activation)     (None, 512)               0         \n",
      "                                                                 \n",
      " dense_1 (Dense)             (None, 512)               262656    \n",
      "                                                                 \n",
      " activation_1 (Activation)   (None, 512)               0         \n",
      "                                                                 \n",
      " dense_2 (Dense)             (None, 10)                5130      \n",
      "                                                                 \n",
      " activation_2 (Activation)   (None, 10)                0         \n",
      "                                                                 \n",
      "=================================================================\n",
      "Total params: 669,706\n",
      "Trainable params: 669,706\n",
      "Non-trainable params: 0\n",
      "_________________________________________________________________\n"
     ]
    }
   ],
   "source": [
    "# model initialization\n",
    "model = Sequential()\n",
    "model.add(Dense(task_params['hidden_dim'], input_shape=(784,)))\n",
    "model.add(Activation('relu'))\n",
    "# model.add(Dropout(0.2))\n",
    "model.add(Dense(task_params['hidden_dim']))\n",
    "model.add(Activation('relu'))\n",
    "# model.add(Dropout(0.2))\n",
    "model.add(Dense(10))\n",
    "model.add(Activation('softmax'))\n",
    "\n",
    "model.summary()"
   ]
  },
  {
   "cell_type": "code",
   "execution_count": 13,
   "id": "e59b6a3a",
   "metadata": {},
   "outputs": [
    {
     "name": "stdout",
     "output_type": "stream",
     "text": [
      "Epoch 1/6\n",
      "469/469 [==============================] - 18s 37ms/step - loss: 0.2318 - accuracy: 0.9293 - val_loss: 0.1007 - val_accuracy: 0.9681\n",
      "Epoch 2/6\n",
      "469/469 [==============================] - 18s 38ms/step - loss: 0.0836 - accuracy: 0.9741 - val_loss: 0.0795 - val_accuracy: 0.9759\n",
      "Epoch 3/6\n",
      "469/469 [==============================] - 16s 34ms/step - loss: 0.0529 - accuracy: 0.9833 - val_loss: 0.0754 - val_accuracy: 0.9765\n",
      "Epoch 4/6\n",
      "469/469 [==============================] - 16s 33ms/step - loss: 0.0374 - accuracy: 0.9882 - val_loss: 0.0736 - val_accuracy: 0.9795\n",
      "Epoch 5/6\n",
      "469/469 [==============================] - 18s 38ms/step - loss: 0.0267 - accuracy: 0.9913 - val_loss: 0.0734 - val_accuracy: 0.9796\n",
      "Epoch 6/6\n",
      "469/469 [==============================] - 18s 37ms/step - loss: 0.0199 - accuracy: 0.9937 - val_loss: 0.0927 - val_accuracy: 0.9764\n"
     ]
    },
    {
     "data": {
      "text/plain": [
       "<keras.callbacks.History at 0x7f23f3f46a40>"
      ]
     },
     "execution_count": 13,
     "metadata": {},
     "output_type": "execute_result"
    }
   ],
   "source": [
    "model.compile(loss=task_params['model_loss'],\n",
    "              optimizer=task_params['model_optimizer'],\n",
    "              metrics=['accuracy'])\n",
    "\n",
    "board = TensorBoard(\n",
    "    histogram_freq=1,\n",
    "    log_dir=os.path.join(\n",
    "        tempfile.gettempdir(),\n",
    "        'histogram_example'\n",
    "    )\n",
    ")\n",
    "model_store = ModelCheckpoint(\n",
    "    filepath=os.path.join(\n",
    "        tempfile.gettempdir(),\n",
    "        'weight.{epoch}.hdf5'\n",
    "    )\n",
    ")\n",
    "\n",
    "model.fit(\n",
    "    x_train, y_train,\n",
    "    batch_size=task_params['batch_size'], \n",
    "    epochs=task_params['nb_epoch'],\n",
    "    callbacks=[board, model_store],\n",
    "    verbose=1, validation_data=(x_test, y_test)\n",
    ")"
   ]
  },
  {
   "cell_type": "code",
   "execution_count": 14,
   "id": "5307e01b",
   "metadata": {},
   "outputs": [
    {
     "name": "stdout",
     "output_type": "stream",
     "text": [
      "Test loss: 0.09273628145456314\n",
      "Test accuracy: 0.9764000177383423\n"
     ]
    }
   ],
   "source": [
    "score = model.evaluate(x_test, y_test, verbose=0)\n",
    "print('Test loss:', score[0])\n",
    "print('Test accuracy:', score[1])"
   ]
  },
  {
   "cell_type": "code",
   "execution_count": 15,
   "id": "d2b704f2",
   "metadata": {},
   "outputs": [
    {
     "name": "stdout",
     "output_type": "stream",
     "text": [
      "1/1 [==============================] - 0s 100ms/step\n",
      "7\n"
     ]
    }
   ],
   "source": [
    "a = model.predict(x_test[0].reshape(1, 784))[0]\n",
    "a = np.argmax(a)\n",
    "print(a)"
   ]
  },
  {
   "cell_type": "code",
   "execution_count": 16,
   "id": "ecb99731",
   "metadata": {},
   "outputs": [
    {
     "data": {
      "text/plain": [
       "7"
      ]
     },
     "execution_count": 16,
     "metadata": {},
     "output_type": "execute_result"
    }
   ],
   "source": [
    "np.argmax(y_test[0])"
   ]
  },
  {
   "cell_type": "code",
   "execution_count": 17,
   "id": "af52e2f1",
   "metadata": {},
   "outputs": [
    {
     "data": {
      "image/png": "[encoded data removed]",
      "text/plain": [
       "<Figure size 640x480 with 1 Axes>"
      ]
     },
     "metadata": {},
     "output_type": "display_data"
    }
   ],
   "source": [
    "mnist_image = x_test[0, :].reshape(28, 28)\n",
    "plt.imshow(mnist_image)\n",
    "# Display the image.\n",
    "plt.show()"
   ]
  },
  {
   "cell_type": "code",
   "execution_count": null,
   "id": "595eee03",
   "metadata": {},
   "outputs": [],
   "source": []
  }
 ],
 "metadata": {
  "kernelspec": {
   "display_name": "Python 3 (ipykernel)",
   "language": "python",
   "name": "python3"
  },
  "language_info": {
   "codemirror_mode": {
    "name": "ipython",
    "version": 3
   },
   "file_extension": ".py",
   "mimetype": "text/x-python",
   "name": "python",
   "nbconvert_exporter": "python",
   "pygments_lexer": "ipython3",
   "version": "3.10.4"
  }
 },
 "nbformat": 4,
 "nbformat_minor": 5
}
